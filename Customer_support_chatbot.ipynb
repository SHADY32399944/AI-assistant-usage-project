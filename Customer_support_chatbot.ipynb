{
  "nbformat": 4,
  "nbformat_minor": 0,
  "metadata": {
    "colab": {
      "provenance": [],
      "authorship_tag": "ABX9TyPPhKOePAPWODmEf1UPROD4",
      "include_colab_link": true
    },
    "kernelspec": {
      "name": "python3",
      "display_name": "Python 3"
    },
    "language_info": {
      "name": "python"
    }
  },
  "cells": [
    {
      "cell_type": "markdown",
      "metadata": {
        "id": "view-in-github",
        "colab_type": "text"
      },
      "source": [
        "<a href=\"https://colab.research.google.com/github/SHADY32399944/AI-assistant-usage-project/blob/main/Customer_support_chatbot.ipynb\" target=\"_parent\"><img src=\"https://colab.research.google.com/assets/colab-badge.svg\" alt=\"Open In Colab\"/></a>"
      ]
    },
    {
      "cell_type": "code",
      "execution_count": null,
      "metadata": {
        "id": "hZp9oWAzy3L6"
      },
      "outputs": [],
      "source": [
        "#define categories\n",
        "categories={\n",
        "    \"Billing\":[\n",
        "        \"How can i update my payment method?\"\n",
        "        \"I was charged twice this month\"\n",
        "        \"Where can i find my invoice\"\n",
        "    ],\n",
        "    \"Technical support\":[\n",
        "        \"My internet is not working\"\n",
        "        \"I keep getting an error when I log in\"\n",
        "        \"The app crashes every time I open it\"\n",
        "    ],\n",
        "    \"General inquiry\":[\n",
        "        \"What are your business hours\"\n",
        "        \"Where is your office located\"\n",
        "        \"How can I contact customer service\"\n",
        "    ]\n",
        "}\n"
      ]
    },
    {
      "cell_type": "code",
      "source": [
        "# define keywords in each category\n",
        "keywords = {\n",
        "    \"Billing\": [\"payment\", \"invoice\", \"bill\", \"charge\"],\n",
        "    \"Technical support\": [\"error\", \"problem\", \"not working\"],\n",
        "    \"General inquiry\": [\"hours\", \"location\", \"contact\", \"office\"]\n",
        "}"
      ],
      "metadata": {
        "id": "MbpH7za81Kvd"
      },
      "execution_count": null,
      "outputs": []
    },
    {
      "cell_type": "code",
      "source": [
        "# classify question based on keyword matches\n",
        "def classify_question(question):\n",
        "  question_lower=question.lower()\n",
        "  scores = {category: 0 for category in keywords}\n",
        "\n",
        "  for category, words in keywords.items():\n",
        "    for word in words:\n",
        "      if word in question_lower:\n",
        "        scores[category] +=1\n",
        "\n",
        "        max_score = max(scores.values())\n",
        "        if max_score ==0:\n",
        "          return \"Unknown\"\n",
        "          return max(scores, key=scores.get)\n"
      ],
      "metadata": {
        "id": "uQ62Tv1B169v"
      },
      "execution_count": null,
      "outputs": []
    },
    {
      "cell_type": "code",
      "source": [
        "#Responses for each category\n",
        "responses = {\n",
        "    \"Billing\": \"For billing questions, please check your account settings or contact billing support.\",\n",
        "    \"Technical Support\": \"Please try restarting your device. If the problem persists, contact technical support.\",\n",
        "    \"General Inquiry\": \"Our business hours are 9 AM to 5 PM, Monday to Friday.\",\n",
        "    \"Unknown\": \"I'm not sure I understand. Could you please rephrase your question?\"\n",
        "}\n"
      ],
      "metadata": {
        "id": "JU6UC9MV3f_5"
      },
      "execution_count": null,
      "outputs": []
    },
    {
      "cell_type": "code",
      "source": [
        "# Basic chatbot interface\n",
        "def detect_frustration(question):\n",
        "  frustration_keywords = [\"angry\", \"frustrated\", \"not happy\"]\n",
        "  return any(word in question.lower() for word in frustration_keywords)\n",
        "def chatbot():\n",
        "  print(\"Welcome to Supportbot! Type your question below (or type 'exit to quit):\")\n",
        "  while True:\n",
        "    user_input = input(\"You: \")\n",
        "    if user_input.lower() in [\"exit\", \"quit\"]:\n",
        "      print(\"Supportbot: Goodbye!\")\n",
        "\n",
        "      if detect_frustration(user_input):\n",
        "        print(\"Supportbot: I understand this is frustrating. Let me connect you with a human representative.\")\n",
        "        continue\n",
        "\n",
        "      category = classify_question(user_input)\n",
        "      print(f\"Supportbot: {responses[category]}\")\n"
      ],
      "metadata": {
        "id": "ufeLI8jY3qZh"
      },
      "execution_count": null,
      "outputs": []
    }
  ]
}